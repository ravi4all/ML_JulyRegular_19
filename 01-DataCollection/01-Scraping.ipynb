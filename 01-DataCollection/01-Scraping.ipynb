{
 "cells": [
  {
   "cell_type": "markdown",
   "metadata": {},
   "source": [
    "# Web Crawling"
   ]
  },
  {
   "cell_type": "code",
   "execution_count": 1,
   "metadata": {},
   "outputs": [],
   "source": [
    "import bs4\n",
    "import urllib.request as url"
   ]
  },
  {
   "cell_type": "code",
   "execution_count": 2,
   "metadata": {},
   "outputs": [],
   "source": [
    "http = url.urlopen(\"https://www.flipkart.com/search?q=iphone%20&otracker=search&otracker1=search&marketplace=FLIPKART&as-show=on&as=off\")"
   ]
  },
  {
   "cell_type": "code",
   "execution_count": 3,
   "metadata": {},
   "outputs": [
    {
     "data": {
      "text/plain": [
       "<http.client.HTTPResponse at 0x1d090b509e8>"
      ]
     },
     "execution_count": 3,
     "metadata": {},
     "output_type": "execute_result"
    }
   ],
   "source": [
    "http"
   ]
  },
  {
   "cell_type": "code",
   "execution_count": 4,
   "metadata": {},
   "outputs": [],
   "source": [
    "page = bs4.BeautifulSoup(http)"
   ]
  },
  {
   "cell_type": "code",
   "execution_count": 5,
   "metadata": {},
   "outputs": [],
   "source": [
    "div = page.find(\"div\", class_='_3wU53n')"
   ]
  },
  {
   "cell_type": "code",
   "execution_count": 6,
   "metadata": {},
   "outputs": [
    {
     "data": {
      "text/plain": [
       "<div class=\"_3wU53n\">Apple iPhone 6s (Gold, 32 GB)</div>"
      ]
     },
     "execution_count": 6,
     "metadata": {},
     "output_type": "execute_result"
    }
   ],
   "source": [
    "div"
   ]
  },
  {
   "cell_type": "code",
   "execution_count": 7,
   "metadata": {},
   "outputs": [
    {
     "data": {
      "text/plain": [
       "'Apple iPhone 6s (Gold, 32 GB)'"
      ]
     },
     "execution_count": 7,
     "metadata": {},
     "output_type": "execute_result"
    }
   ],
   "source": [
    "div.text"
   ]
  },
  {
   "cell_type": "code",
   "execution_count": 8,
   "metadata": {},
   "outputs": [],
   "source": [
    "divList = page.find_all(\"div\", class_='_3wU53n')"
   ]
  },
  {
   "cell_type": "code",
   "execution_count": 9,
   "metadata": {},
   "outputs": [
    {
     "name": "stdout",
     "output_type": "stream",
     "text": [
      "Apple iPhone 6s (Gold, 32 GB)\n",
      "Apple iPhone XR (Black, 64 GB)\n",
      "Apple iPhone X (Space Gray, 64 GB)\n",
      "Apple iPhone XR (Black, 128 GB)\n",
      "Apple iPhone 6s (Rose Gold, 32 GB)\n",
      "Apple iPhone 6s (Space Grey, 32 GB)\n",
      "Apple iPhone XR (White, 64 GB)\n",
      "Apple iPhone XR ((PRODUCT)RED, 64 GB)\n",
      "Apple iPhone XR (White, 128 GB)\n",
      "Apple iPhone 6s (Silver, 32 GB)\n",
      "Apple iPhone 8 (Silver, 64 GB)\n",
      "Apple iPhone 8 (Gold, 64 GB)\n",
      "Apple iPhone XR (Coral, 128 GB)\n",
      "Apple iPhone 6s Plus (Gold, 32 GB)\n",
      "Apple iPhone 6 (Space Grey, 32 GB)\n",
      "Apple iPhone 8 (PRODUCT)RED (Red, 64 GB)\n",
      "Apple iPhone 8 Plus (Gold, 64 GB)\n",
      "Apple iPhone 8 Plus (PRODUCT)RED (Red, 256 GB)\n",
      "Apple iPhone 8 Plus (Space Grey, 64 GB)\n",
      "Apple iPhone 8 (Space Grey, 256 GB)\n",
      "Apple iPhone 6s Plus (Silver, 16 GB)\n",
      "Apple iPhone XR (Blue, 128 GB)\n",
      "Apple iPhone 8 (Silver, 256 GB)\n",
      "Apple iPhone XR (Coral, 64 GB)\n"
     ]
    }
   ],
   "source": [
    "for item in divList:\n",
    "    print(item.text)"
   ]
  },
  {
   "cell_type": "code",
   "execution_count": null,
   "metadata": {},
   "outputs": [],
   "source": []
  }
 ],
 "metadata": {
  "kernelspec": {
   "display_name": "Python 3",
   "language": "python",
   "name": "python3"
  },
  "language_info": {
   "codemirror_mode": {
    "name": "ipython",
    "version": 3
   },
   "file_extension": ".py",
   "mimetype": "text/x-python",
   "name": "python",
   "nbconvert_exporter": "python",
   "pygments_lexer": "ipython3",
   "version": "3.7.3"
  }
 },
 "nbformat": 4,
 "nbformat_minor": 2
}

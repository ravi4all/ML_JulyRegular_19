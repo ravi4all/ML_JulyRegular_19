{
 "cells": [
  {
   "cell_type": "code",
   "execution_count": 1,
   "metadata": {},
   "outputs": [],
   "source": [
    "import bs4\n",
    "import urllib.request as url"
   ]
  },
  {
   "cell_type": "code",
   "execution_count": 2,
   "metadata": {},
   "outputs": [],
   "source": [
    "path = \"https://www.flipkart.com/apple-iphone-6s-gold-32-gb/p/itmen2yynt6bz3gg?pid=MOBEN2YYQH8PSYXG&srno=s_1_1&otracker=search&otracker1=search&lid=LSTMOBEN2YYQH8PSYXG4TGFKX&fm=organic&iid=199b1c38-7d58-458e-8fce-247db4b3dbce.MOBEN2YYQH8PSYXG.SEARCH&qH=4673a7c42221208f\""
   ]
  },
  {
   "cell_type": "code",
   "execution_count": 3,
   "metadata": {},
   "outputs": [],
   "source": [
    "http = url.urlopen(path)"
   ]
  },
  {
   "cell_type": "code",
   "execution_count": 4,
   "metadata": {},
   "outputs": [],
   "source": [
    "page = bs4.BeautifulSoup(http)"
   ]
  },
  {
   "cell_type": "code",
   "execution_count": 16,
   "metadata": {},
   "outputs": [],
   "source": [
    "a_tags = page.find(\"div\", class_='col _39LH-M').find_all('a')"
   ]
  },
  {
   "cell_type": "code",
   "execution_count": 20,
   "metadata": {},
   "outputs": [],
   "source": [
    "href = a_tags[-1]['href']"
   ]
  },
  {
   "cell_type": "code",
   "execution_count": 21,
   "metadata": {},
   "outputs": [
    {
     "data": {
      "text/plain": [
       "'/apple-iphone-6s-gold-32-gb/product-reviews/itmen2yynt6bz3gg?pid=MOBEN2YYQH8PSYXG'"
      ]
     },
     "execution_count": 21,
     "metadata": {},
     "output_type": "execute_result"
    }
   ],
   "source": [
    "href"
   ]
  },
  {
   "cell_type": "code",
   "execution_count": 23,
   "metadata": {},
   "outputs": [],
   "source": [
    "newPath = \"https://www.flipkart.com\"+href"
   ]
  },
  {
   "cell_type": "code",
   "execution_count": 24,
   "metadata": {},
   "outputs": [],
   "source": [
    "http_2 = url.urlopen(newPath)"
   ]
  },
  {
   "cell_type": "code",
   "execution_count": 25,
   "metadata": {},
   "outputs": [],
   "source": [
    "page_2 = bs4.BeautifulSoup(http_2)"
   ]
  },
  {
   "cell_type": "code",
   "execution_count": 27,
   "metadata": {},
   "outputs": [],
   "source": [
    "parentDiv = page_2.find('div', class_='qwjRop')"
   ]
  },
  {
   "cell_type": "code",
   "execution_count": 32,
   "metadata": {},
   "outputs": [
    {
     "data": {
      "text/plain": [
       "'Delightful product just keep trust on Flipkart and order itsuperd quality as expected by Flipkart'"
      ]
     },
     "execution_count": 32,
     "metadata": {},
     "output_type": "execute_result"
    }
   ],
   "source": [
    "parentDiv.find_all(\"div\")[1].text"
   ]
  },
  {
   "cell_type": "code",
   "execution_count": 33,
   "metadata": {},
   "outputs": [],
   "source": [
    "parentDivList = page_2.find_all('div', class_='qwjRop')"
   ]
  },
  {
   "cell_type": "code",
   "execution_count": 34,
   "metadata": {},
   "outputs": [
    {
     "name": "stdout",
     "output_type": "stream",
     "text": [
      "Delightful product just keep trust on Flipkart and order itsuperd quality as expected by Flipkart\n",
      "good product, one day delivery only...\n",
      "nice\n",
      "good I got it in offer\n",
      "nice product thanks for the flipkart offer sale.... loved it...\n",
      "My first iPhone.. experience was excellent. iPhone 6s with a 3D touch was awesome. camera quality was not as expected but overall its good. If u love iPhone go for 6s.\n",
      "excellent super performance....\n",
      "get it rs 23500....in big shopping days\n",
      "Awesome mobile\n",
      "worth the money bought for 21600 on bbd\n"
     ]
    }
   ],
   "source": [
    "for item in parentDivList:\n",
    "    print(item.find_all(\"div\")[1].text)"
   ]
  },
  {
   "cell_type": "code",
   "execution_count": 37,
   "metadata": {},
   "outputs": [],
   "source": [
    "ratingList = page_2.find_all(\"div\", class_='hGSR34 E_uFuv')"
   ]
  },
  {
   "cell_type": "code",
   "execution_count": 44,
   "metadata": {},
   "outputs": [],
   "source": [
    "# ratingList"
   ]
  },
  {
   "cell_type": "code",
   "execution_count": 38,
   "metadata": {},
   "outputs": [
    {
     "name": "stdout",
     "output_type": "stream",
     "text": [
      "5\n",
      "4\n",
      "5\n",
      "4\n",
      "5\n",
      "4\n",
      "5\n",
      "5\n",
      "5\n",
      "5\n"
     ]
    }
   ],
   "source": [
    "for rating in ratingList:\n",
    "    print(rating.text)"
   ]
  },
  {
   "cell_type": "code",
   "execution_count": 40,
   "metadata": {},
   "outputs": [
    {
     "data": {
      "text/plain": [
       "(10, 10)"
      ]
     },
     "execution_count": 40,
     "metadata": {},
     "output_type": "execute_result"
    }
   ],
   "source": [
    "len(ratingList), len(parentDivList)"
   ]
  },
  {
   "cell_type": "code",
   "execution_count": 42,
   "metadata": {},
   "outputs": [
    {
     "name": "stdout",
     "output_type": "stream",
     "text": [
      "Delightful product just keep trust on Flipkart and order itsuperd quality as expected by Flipkart\n",
      "Rating : 5\n",
      "--------------------------\n",
      "good product, one day delivery only...\n",
      "Rating : 4\n",
      "--------------------------\n",
      "nice\n",
      "Rating : 5\n",
      "--------------------------\n",
      "good I got it in offer\n",
      "Rating : 4\n",
      "--------------------------\n",
      "nice product thanks for the flipkart offer sale.... loved it...\n",
      "Rating : 5\n",
      "--------------------------\n",
      "My first iPhone.. experience was excellent. iPhone 6s with a 3D touch was awesome. camera quality was not as expected but overall its good. If u love iPhone go for 6s.\n",
      "Rating : 4\n",
      "--------------------------\n",
      "excellent super performance....\n",
      "Rating : 5\n",
      "--------------------------\n",
      "get it rs 23500....in big shopping days\n",
      "Rating : 5\n",
      "--------------------------\n",
      "Awesome mobile\n",
      "Rating : 5\n",
      "--------------------------\n",
      "worth the money bought for 21600 on bbd\n",
      "Rating : 5\n",
      "--------------------------\n"
     ]
    }
   ],
   "source": [
    "for i in range(len(ratingList)):\n",
    "    print(parentDivList[i].find_all(\"div\")[1].text)\n",
    "    print(\"Rating :\",ratingList[i].text)\n",
    "    print(\"--------------------------\")"
   ]
  },
  {
   "cell_type": "code",
   "execution_count": null,
   "metadata": {},
   "outputs": [],
   "source": []
  },
  {
   "cell_type": "code",
   "execution_count": null,
   "metadata": {},
   "outputs": [],
   "source": []
  },
  {
   "cell_type": "code",
   "execution_count": 45,
   "metadata": {},
   "outputs": [
    {
     "name": "stdout",
     "output_type": "stream",
     "text": [
      "Delightful product just keep trust on Flipkart and order itsuperd quality as expected by Flipkart\n",
      "Rating : 5\n",
      "--------------------------\n",
      "good product, one day delivery only...\n",
      "Rating : 4\n",
      "--------------------------\n",
      "nice\n",
      "Rating : 5\n",
      "--------------------------\n",
      "good I got it in offer\n",
      "Rating : 4\n",
      "--------------------------\n",
      "nice product thanks for the flipkart offer sale.... loved it...\n",
      "Rating : 5\n",
      "--------------------------\n",
      "My first iPhone.. experience was excellent. iPhone 6s with a 3D touch was awesome. camera quality was not as expected but overall its good. If u love iPhone go for 6s.\n",
      "Rating : 4\n",
      "--------------------------\n",
      "excellent super performance....\n",
      "Rating : 5\n",
      "--------------------------\n",
      "get it rs 23500....in big shopping days\n",
      "Rating : 5\n",
      "--------------------------\n",
      "Awesome mobile\n",
      "Rating : 5\n",
      "--------------------------\n",
      "worth the money bought for 21600 on bbd\n",
      "Rating : 5\n",
      "--------------------------\n",
      "\n",
      "Apple iPhone 6s is a quality product, in all aspects I found it satisfactory. It's look, sound , touch, app handling, speed, battery charge all are just awesome. Looks so delicate but it is strong too. Flipkart delivery was also prompt.\n",
      "Rating : 5\n",
      "--------------------------\n",
      "Awesome product\n",
      "Rating : 5\n",
      "--------------------------\n",
      "In love with it\n",
      "Rating : 5\n",
      "--------------------------\n",
      "awesome phone with great features\n",
      "Rating : 5\n",
      "--------------------------\n",
      "Average packing but iphone is an iphone well done flipkart\n",
      "Rating : 4\n",
      "--------------------------\n",
      "I am very happy with my I phone and thanku so much flipkart........\n",
      "Rating : 5\n",
      "--------------------------\n",
      "Good product . I think 6s best phone. Features & look excellent.\n",
      "Rating : 4\n",
      "--------------------------\n",
      "Wonderful experience\n",
      "Rating : 5\n",
      "--------------------------\n",
      "Thanku flip kart\n",
      "Rating : 5\n",
      "--------------------------\n",
      "awesome phone Good 3d Display 👍👍\n",
      "Rating : 4\n",
      "--------------------------\n",
      "\n",
      "its a beast .... a total allrounder.....really apple has something speacial its feels so rich....the build quality is awsm ....camera is perfect too ....never hangs or lags ....and at 30k best deal..love it.\n",
      "Rating : 5\n",
      "--------------------------\n",
      "Good\n",
      "Rating : 5\n",
      "--------------------------\n",
      "Very good deal. I bought this for 29.5k ( Oct -17). No issues with the handset after using 4 months. I am using iOS first time, lot of features but I can't easily find out them. It's even 32 gb the space will fill out fast. Battery is okay, easily manageable one day.   But facing problems with the downloads and updates ie you can't download and update over 50 MB  with the mobile data. Wifi needed. Swift key app not supporting kannada language.\n",
      "Rating : 4\n",
      "--------------------------\n",
      "head phone jack is not working properly\n",
      "Rating : 3\n",
      "--------------------------\n",
      "I used this phone for 6 months and then sold it for a Galaxy s7 . So here are the pros and cons -Pros-Good build Responsive fingerprint scanneriPhone brand valueiOS ecosystem is very simplistic and easy to use and also very dependable with barely any crashes and bugs.Front camera is really good and offers great amount of detailRam management and speed is top notch. Phone never lags and never fails to not keep apps in memory.Audio via headphone jack is one of the best and yes it has a ...\n",
      "Rating : 5\n",
      "--------------------------\n",
      "awesome 😍\n",
      "Rating : 4\n",
      "--------------------------\n",
      "Very good iphone is best product Flipkart 2 day on delivery\n",
      "Rating : 5\n",
      "--------------------------\n",
      "superb phone..quality is awesome!original!love u flipkart for this..got it in emi with discount! iphone s touch is different.i am already using s8.but iphone is of totally different quality.guys go for it!its a user s phone.small..handy..pocket friendly by size and budget.\n",
      "Rating : 5\n",
      "--------------------------\n",
      "\n",
      "Worth 4 budget...\n",
      "Rating : 4\n",
      "--------------------------\n",
      "Awesome phn.. but charging indicator should  present there. Only showing that its charging. If there will be percentage option thn it will help me. Secondary camera quality is not good.. otherwise evrything is good.. happy to hv it.\n",
      "Rating : 4\n",
      "--------------------------\n",
      "Good\n",
      "Rating : 5\n",
      "--------------------------\n",
      "Good product and very fast delivery from Flipkart. Happy\n",
      "Rating : 5\n",
      "--------------------------\n",
      "Nice phone\n",
      "Rating : 4\n",
      "--------------------------\n",
      "Actually i was little worried about the authentication of dis product as i have read several reviews saying that they got duplicate product but the product i recieved is 100% orignal(checked serial no. on apple on9 store). Go for it this phone is awesome and it becomes even better wid ios 11.03. Thanx flipkart\n",
      "Rating : 5\n",
      "--------------------------\n",
      "Although the delivery was as promised, the phone is superb !! Features o; phone are too extensive and makes you ever excited. Quality of pictures, sound is awesome, the way phone handles many applications at one go is truly delightful the only con which I see is with battery, I think apple can work on this as the usage of phones are becoming inevitable.\n",
      "Rating : 5\n",
      "--------------------------\n",
      "Very fast delivery, 100% genuine products.Fully satisfied....\n",
      "Rating : 5\n",
      "--------------------------\n",
      "nice product and good price\n",
      "Rating : 5\n",
      "--------------------------\n",
      "\n",
      "Very nice\n",
      "Rating : 5\n",
      "--------------------------\n",
      "Battery backup not good\n",
      "Rating : 3\n",
      "--------------------------\n",
      "got the best phone at less price, thank you flipkart..\n",
      "Rating : 5\n",
      "--------------------------\n",
      "Top 10\n",
      "Rating : 5\n",
      "--------------------------\n",
      "Pathetic. .  worst phonephone heat while using mobile data or wifi. . .very disappointed with my iPhone 6s 32gb\n",
      "Rating : 5\n",
      "--------------------------\n",
      "It's not a better phone then android icloud lock is very big problem I think you buy a new phone then go to Sony z5 it was a awesome phone with great camera I sell my iPhone n buy Sony z5 pictures quality brilliant\n",
      "Rating : 5\n",
      "--------------------------\n",
      "its good with discounted price 😊\n",
      "Rating : 3\n",
      "--------------------------\n",
      "gud product\n",
      "Rating : 5\n",
      "--------------------------\n",
      "\n",
      "Spoilers!!! Please buy and feel the IOS 11 experience yourself. Don't listen to any kind of rumors, Everything is fine and better.Awesome Camera Performance, Memory Utilization, Battery Backup, Touch IOS experience.Apple is an status symbol in India. But trust me it has really that properties which make it this.Best of luck.\n",
      "Rating : 5\n",
      "--------------------------\n",
      "Purchase was excellent.. trust Flipkart so easily👍🏻\n",
      "Rating : 5\n",
      "--------------------------\n",
      "Excellent\n",
      "Rating : 5\n",
      "--------------------------\n",
      "I dont think i have to write a review for iPhone. Its the brand itself. All together a classy product with all great features comparison to other smart phones.\n",
      "Rating : 5\n",
      "--------------------------\n",
      "Awesome camera yaar.....👌👌\n",
      "Rating : 5\n",
      "--------------------------\n",
      "Apple products super. iPhone 6s is awesome camera nice battery performance is good in 1715 mah...worth in price. Iphone awesome...\n",
      "Rating : 5\n",
      "--------------------------\n",
      "Value for money.  Good processor but only one bad thing in this phone is battery ..very bed performance of batery\n",
      "Rating : 5\n",
      "--------------------------\n",
      "Phone is new and it save my 4-5 thousands , which I would have given on Apple store.\n",
      "Rating : 5\n",
      "--------------------------\n",
      "good\n",
      "Rating : 5\n",
      "--------------------------\n",
      "product meets the satisfaction level as till the opening of the package it was an eerie feeling (guessing what inside )..well it's iPhone with all the accessories as mentioned..delivered in good package..a big sigh\n",
      "Rating : 4\n",
      "--------------------------\n",
      "\n",
      "good quality and good built phone... also easy to use\n",
      "Rating : 4\n",
      "--------------------------\n",
      "Good\n",
      "Rating : 4\n",
      "--------------------------\n",
      "good mobile\n",
      "Rating : 5\n",
      "--------------------------\n",
      "Return policy should apply on this product while for a short period of time.\n",
      "Rating : 4\n",
      "--------------------------\n",
      "phone call voice not clear.....hearining sound slow\n",
      "Rating : 5\n",
      "--------------------------\n",
      "Superb product. Superb performance ... great deal from Flipkart ... value for money 👍🏻\n",
      "Rating : 5\n",
      "--------------------------\n",
      "Great product\n",
      "Rating : 5\n",
      "--------------------------\n",
      "This is the best deal ever I got in Flipkart worth Rs.20802 with great discounts in Big Billion Day. This price is better to buy a apple phone rather than taking a android. In delivery, Flipkart is always 5/5 with a damage free product always. Just worth of buying a iPhone 6s in 20K budget.\n",
      "Rating : 5\n",
      "--------------------------\n",
      "very good product & amazing\n",
      "Rating : 4\n",
      "--------------------------\n",
      "\n"
     ]
    },
    {
     "name": "stdout",
     "output_type": "stream",
     "text": [
      "Excellent\n",
      "Rating : 5\n",
      "--------------------------\n",
      "Awsome phone\n",
      "Rating : 5\n",
      "--------------------------\n",
      "I love it good features..\n",
      "Rating : 5\n",
      "--------------------------\n",
      "Good\n",
      "Rating : 5\n",
      "--------------------------\n",
      "Good\n",
      "Rating : 4\n",
      "--------------------------\n",
      "It's Great...Simply the Best price given by the Flipkart\n",
      "Rating : 5\n",
      "--------------------------\n",
      "Amazing phone ...\n",
      "Rating : 5\n",
      "--------------------------\n",
      "Awesome mobile  im really loved it\n",
      "Rating : 5\n",
      "--------------------------\n",
      "Best phone in this price range, specially for those who love using iPhone. Further the product is genuine, checked it on apple website. Seller is too good; received in good condition n that too within 2 days.\n",
      "Rating : 4\n",
      "--------------------------\n",
      "Well working awsome qualitYy Iphone good lukngTrusted phone ever n thz\n",
      "Rating : 5\n",
      "--------------------------\n",
      "\n",
      "Best mobile\n",
      "Rating : 4\n",
      "--------------------------\n",
      "Awesome Such a good experience with flipkart Well done keep moving flipkart\n",
      "Rating : 5\n",
      "--------------------------\n",
      "Thanks flipkart for your Amazing service and timely delivery of products.Whatever I ordered from flipkart is reached to me before the scheduled time.Quite happy with SuperComNet seller, his price of products is quite competitive and original.\n",
      "Rating : 5\n",
      "--------------------------\n",
      "The phone is good but one of the side of the earphones is defective. Hope you can change the earphones without the phone.\n",
      "Rating : 3\n",
      "--------------------------\n",
      "Suparb\n",
      "Rating : 3\n",
      "--------------------------\n",
      "good product\n",
      "Rating : 5\n",
      "--------------------------\n",
      "Value for money very happy\n",
      "Rating : 5\n",
      "--------------------------\n",
      "Good\n",
      "Rating : 5\n",
      "--------------------------\n",
      "Nice phone\n",
      "Rating : 5\n",
      "--------------------------\n",
      "Good packed , nice product...\n",
      "Rating : 5\n",
      "--------------------------\n",
      "\n",
      "not working proper display defective..\n",
      "Rating : 4\n",
      "--------------------------\n",
      "So far experience is quiet Good,An iPhone is a iPhone it's true in every sense.\n",
      "Rating : 5\n",
      "--------------------------\n",
      "awesomeit's still worth buying in 2018.Flipkart delivery is is late by the way. The phone were going round & round in Flipkart's bhiwandi warehouse for two days.\n",
      "Rating : 5\n",
      "--------------------------\n",
      "Its jast amazing....\n",
      "Rating : 4\n",
      "--------------------------\n",
      "The Price of the 32GB and 64GB is almost the same, I would suggest you to go for the 64Gb rather than this 32GB. Infact, this is 1000 expensive than the 64GB\n",
      "Rating : 4\n",
      "--------------------------\n",
      "Iphone se is better than 6s. Here i give reasons . i) -se gives more battery life than 6s (approx 0.5- 1hour).     ii) in the boot up test se give a quicker boot up than 6s.    iii) iphone se is 10000 less price than 6s.    So why spending 10000 extra money for same feature .\n",
      "Rating : 5\n",
      "--------------------------\n",
      "\n"
     ]
    }
   ],
   "source": [
    "for i in range(10):\n",
    "    newPath = \"https://www.flipkart.com\"+href+'&page={}'.format(i+1)\n",
    "    http_2 = url.urlopen(newPath)\n",
    "    page_2 = bs4.BeautifulSoup(http_2)\n",
    "    parentDivList = page_2.find_all('div', class_='qwjRop')\n",
    "    ratingList = page_2.find_all(\"div\", class_='hGSR34 E_uFuv')\n",
    "    for i in range(len(ratingList)):\n",
    "        print(parentDivList[i].find_all(\"div\")[1].text)\n",
    "        print(\"Rating :\",ratingList[i].text)\n",
    "        print(\"--------------------------\")\n",
    "    print()"
   ]
  },
  {
   "cell_type": "code",
   "execution_count": null,
   "metadata": {},
   "outputs": [],
   "source": []
  }
 ],
 "metadata": {
  "kernelspec": {
   "display_name": "Python 3",
   "language": "python",
   "name": "python3"
  },
  "language_info": {
   "codemirror_mode": {
    "name": "ipython",
    "version": 3
   },
   "file_extension": ".py",
   "mimetype": "text/x-python",
   "name": "python",
   "nbconvert_exporter": "python",
   "pygments_lexer": "ipython3",
   "version": "3.7.3"
  }
 },
 "nbformat": 4,
 "nbformat_minor": 2
}
